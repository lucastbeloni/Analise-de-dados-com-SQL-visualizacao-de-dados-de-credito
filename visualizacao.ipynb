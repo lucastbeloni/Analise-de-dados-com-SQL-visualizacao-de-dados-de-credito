{
 "cells": [
  {
   "cell_type": "markdown",
   "id": "8818ae9a",
   "metadata": {
    "papermill": {
     "duration": 0.002629,
     "end_time": "2022-09-17T18:09:59.420517",
     "exception": false,
     "start_time": "2022-09-17T18:09:59.417888",
     "status": "completed"
    },
    "tags": []
   },
   "source": [
    "# **PROJETO FINAL: Exploração e análise de dados de crédito com SQL**\n",
    "\n",
    "## **Exploração de dados:**\n",
    "\n",
    "Primeiramente, procurar entender o que temos de matéria prima. Vamos a exploração de dados:\n",
    "\n",
    "\n",
    "**Qual o tamanho a nossa base de dados tem?**\n",
    "\n",
    "**Query:** SELECT count(*) FROM credito;\n",
    "> Reposta: 2564 linhas\n",
    "\n",
    "**ps.:** Os dados no link do arquivo \"README.md\" contém mais linhas do que a seleção utilizada. Você pode utilizar todas as linhas ou considerar apenas uma fração dos dados. Na prática, quanto maior a quantidade de dados utilizada, mais confiável a análise! Mas existem limites computacionais e financeiros na qual a redução de dados para análise para fins de estudo se torna interessante. \n",
    "\n",
    "\n",
    "**Como são os dados?** \n",
    "\n",
    "**Query:** SELECT * FROM credito LIMIT 10;\n",
    "\n",
    "![Dez primeiras linhas do dataset](https://github.com/lucastbeloni/Analise-de-dados-com-SQL-visualizacao-de-dados-de-credito/blob/main/imagens/tabela.PNG?raw=true)\n",
    "\n",
    "> Há algumas informações nulas na tabela (valor na), olharemos mais de perto para os valores de cada coluna posteriormente. \n",
    "\n",
    "\n",
    "**Quais os tipos de cada dado?**\n",
    "\n",
    "**Query:** DESCRIBE credito;\n",
    "\n",
    "![Descrição dos tipos de dados](https://github.com/lucastbeloni/Analise-de-dados-com-SQL-visualizacao-de-dados-de-credito/blob/main/imagens/descricao.PNG?raw=true)\n",
    "\n",
    "\n",
    "**Quais são os tipos de escolaridade disponíveis no dataset?**\n",
    "\n",
    "**Query:** SELECT DISTINCT escolaridade FROM credito ORDER BY escolaridade;\n",
    "\n",
    "![Tipos de escolaridade](https://github.com/lucastbeloni/Analise-de-dados-com-SQL-visualizacao-de-dados-de-credito/blob/main/imagens/escolaridade.PNG?raw=true)\n",
    "\n",
    "> Há vários níveis de escolaridade nos dados. Percebe-se que temos valores nulos (na) no dataset, trataremos isso mais tarde!\n",
    "\n",
    "\n",
    "**Quais são os tipos de estado_civil disponíveis no dataset?**\n",
    "\n",
    "**Query:** SELECT DISTINCT estado_civil FROM credito ORDER BY estado_civil;\n",
    "\n",
    "![Tipos de estado civil](https://github.com/lucastbeloni/Analise-de-dados-com-SQL-visualizacao-de-dados-de-credito/blob/main/imagens/estado_civil.PNG?raw=true)\n",
    "\n",
    "> Novamente foi encontrado dados nulos.\n",
    "\n",
    "\n",
    "**Quais são os tipos de salario_anual disponíveis no dataset?**\n",
    "\n",
    "**Query:** SELECT DISTINCT salario_anual FROM credito ORDER BY salario_anual DESC;\n",
    "\n",
    "![Tipos de salario anual](https://github.com/lucastbeloni/Analise-de-dados-com-SQL-visualizacao-de-dados-de-credito/blob/main/imagens/salario_anual.PNG?raw=true)\n",
    "\n",
    "> Os salários são representados por faixas salariais, não mostrando o valor exato que o cliente ganha. Há mais dados nulos...\n",
    "\n",
    "\n",
    "**Quais são os tipos de cartão disponíveis no dataset?**\n",
    "\n",
    "**Query:** SELECT DISTINCT tipo_cartao FROM credito ORDER BY tipo_cartao;\n",
    "\n",
    "![Tipos de cartão](https://github.com/lucastbeloni/Analise-de-dados-com-SQL-visualizacao-de-dados-de-credito/blob/main/imagens/tipo_cartao.PNG?raw=true)\n",
    "\n",
    "> Aqui vemos que não há necessidade de tratar valores nulos."
   ]
  },
  {
   "cell_type": "markdown",
   "id": "da5b16da",
   "metadata": {
    "papermill": {
     "duration": 0.001237,
     "end_time": "2022-09-17T18:09:59.423469",
     "exception": false,
     "start_time": "2022-09-17T18:09:59.422232",
     "status": "completed"
    },
    "tags": []
   },
   "source": [
    "# Conclusão\n",
    "  \n",
    "Podemos afirmar alguns fatos:\n",
    "\n",
    "- Maioria dos clientes é masculino;\n",
    "- A maior parte dos clientes possui renda até 40K;\n",
    "- A escolaridade não parece influenciar no limite nem no tipo do cartão;\n",
    "- Dentre os menores limites não há presença de cartão platinum;\n",
    "- Os clientes com menores limites são em sua maioria mulheres;\n",
    "- Os clientes com maiores limites são em sua maioria homens;\n",
    "- A faixa salarial impacta diretamente no limite de crédito;\n",
    "- Não existem clientes com salário anual acima de 60K do sexo feminino.\n",
    "\n",
    "\n",
    "**Por que as mulheres tem menor crédito? Havendo uma exploração maior dos dados pode explicar isso. Podendo ou não ser um problema cultural que pode ser repensado!**"
   ]
  }
 ],
 "metadata": {
  "kernelspec": {
   "display_name": "Python 3",
   "language": "python",
   "name": "python3"
  },
  "language_info": {
   "codemirror_mode": {
    "name": "ipython",
    "version": 3
   },
   "file_extension": ".py",
   "mimetype": "text/x-python",
   "name": "python",
   "nbconvert_exporter": "python",
   "pygments_lexer": "ipython3",
   "version": "3.7.12"
  },
  "papermill": {
   "default_parameters": {},
   "duration": 10.49051,
   "end_time": "2022-09-17T18:10:00.150163",
   "environment_variables": {},
   "exception": null,
   "input_path": "__notebook__.ipynb",
   "output_path": "__notebook__.ipynb",
   "parameters": {},
   "start_time": "2022-09-17T18:09:49.659653",
   "version": "2.3.4"
  }
 },
 "nbformat": 4,
 "nbformat_minor": 5
}
